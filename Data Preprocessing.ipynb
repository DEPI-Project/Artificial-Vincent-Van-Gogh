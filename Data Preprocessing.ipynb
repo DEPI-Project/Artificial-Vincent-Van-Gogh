{
  "cells": [
    {
      "cell_type": "code",
      "execution_count": 3,
      "metadata": {
        "colab": {
          "base_uri": "https://localhost:8080/"
        },
        "id": "S-SPjYCKNxsp",
        "outputId": "f7a0d010-ae30-433b-f331-779a4439d776"
      },
      "outputs": [
        {
          "name": "stdout",
          "output_type": "stream",
          "text": [
            "Requirement already satisfied: Pillow in /usr/local/lib/python3.10/dist-packages (10.4.0)\n"
          ]
        }
      ],
      "source": [
        "!pip install Pillow"
      ]
    },
    {
      "cell_type": "code",
      "execution_count": 4,
      "metadata": {
        "colab": {
          "base_uri": "https://localhost:8080/"
        },
        "id": "ktin8AP_Vgyh",
        "outputId": "bd6e383a-f551-456e-b436-10dd8c0c75ab"
      },
      "outputs": [
        {
          "name": "stdout",
          "output_type": "stream",
          "text": [
            "Collecting Augmentor\n",
            "  Downloading Augmentor-0.2.12-py2.py3-none-any.whl.metadata (1.3 kB)\n",
            "Requirement already satisfied: Pillow>=5.2.0 in /usr/local/lib/python3.10/dist-packages (from Augmentor) (10.4.0)\n",
            "Requirement already satisfied: tqdm>=4.9.0 in /usr/local/lib/python3.10/dist-packages (from Augmentor) (4.66.5)\n",
            "Requirement already satisfied: numpy>=1.11.0 in /usr/local/lib/python3.10/dist-packages (from Augmentor) (1.26.4)\n",
            "Downloading Augmentor-0.2.12-py2.py3-none-any.whl (38 kB)\n",
            "Installing collected packages: Augmentor\n",
            "Successfully installed Augmentor-0.2.12\n"
          ]
        }
      ],
      "source": [
        "!pip install Augmentor"
      ]
    },
    {
      "cell_type": "code",
      "execution_count": 5,
      "metadata": {
        "colab": {
          "base_uri": "https://localhost:8080/",
          "height": 536
        },
        "id": "PyfoxpM7XcNq",
        "outputId": "64f989af-11c8-4e21-9704-7c0fcc8ecc44"
      },
      "outputs": [
        {
          "name": "stdout",
          "output_type": "stream",
          "text": [
            "Requirement already satisfied: keras in /usr/local/lib/python3.10/dist-packages (3.4.1)\n",
            "Collecting keras\n",
            "  Downloading keras-3.5.0-py3-none-any.whl.metadata (5.8 kB)\n",
            "Requirement already satisfied: absl-py in /usr/local/lib/python3.10/dist-packages (from keras) (1.4.0)\n",
            "Requirement already satisfied: numpy in /usr/local/lib/python3.10/dist-packages (from keras) (1.26.4)\n",
            "Requirement already satisfied: rich in /usr/local/lib/python3.10/dist-packages (from keras) (13.8.1)\n",
            "Requirement already satisfied: namex in /usr/local/lib/python3.10/dist-packages (from keras) (0.0.8)\n",
            "Requirement already satisfied: h5py in /usr/local/lib/python3.10/dist-packages (from keras) (3.11.0)\n",
            "Requirement already satisfied: optree in /usr/local/lib/python3.10/dist-packages (from keras) (0.12.1)\n",
            "Requirement already satisfied: ml-dtypes in /usr/local/lib/python3.10/dist-packages (from keras) (0.4.1)\n",
            "Requirement already satisfied: packaging in /usr/local/lib/python3.10/dist-packages (from keras) (24.1)\n",
            "Requirement already satisfied: typing-extensions>=4.5.0 in /usr/local/lib/python3.10/dist-packages (from optree->keras) (4.12.2)\n",
            "Requirement already satisfied: markdown-it-py>=2.2.0 in /usr/local/lib/python3.10/dist-packages (from rich->keras) (3.0.0)\n",
            "Requirement already satisfied: pygments<3.0.0,>=2.13.0 in /usr/local/lib/python3.10/dist-packages (from rich->keras) (2.18.0)\n",
            "Requirement already satisfied: mdurl~=0.1 in /usr/local/lib/python3.10/dist-packages (from markdown-it-py>=2.2.0->rich->keras) (0.1.2)\n",
            "Downloading keras-3.5.0-py3-none-any.whl (1.1 MB)\n",
            "\u001b[2K   \u001b[90m━━━━━━━━━━━━━━━━━━━━━━━━━━━━━━━━━━━━━━━━\u001b[0m \u001b[32m1.1/1.1 MB\u001b[0m \u001b[31m23.1 MB/s\u001b[0m eta \u001b[36m0:00:00\u001b[0m\n",
            "\u001b[?25hInstalling collected packages: keras\n",
            "  Attempting uninstall: keras\n",
            "    Found existing installation: keras 3.4.1\n",
            "    Uninstalling keras-3.4.1:\n",
            "      Successfully uninstalled keras-3.4.1\n",
            "Successfully installed keras-3.5.0\n"
          ]
        },
        {
          "data": {
            "application/vnd.colab-display-data+json": {
              "id": "749390814a114648bb1784032ed06c43",
              "pip_warning": {
                "packages": [
                  "keras"
                ]
              }
            }
          },
          "metadata": {},
          "output_type": "display_data"
        }
      ],
      "source": [
        "!pip install keras --upgrade"
      ]
    },
    {
      "cell_type": "markdown",
      "metadata": {
        "id": "3Wc3ryfVTXA0"
      },
      "source": [
        "## Import libraries"
      ]
    },
    {
      "cell_type": "code",
      "execution_count": 1,
      "metadata": {
        "id": "PkZLdtJwSjy2"
      },
      "outputs": [],
      "source": [
        "import matplotlib.pyplot as plt\n",
        "import os\n",
        "import numpy as np\n",
        "from PIL import Image\n"
      ]
    },
    {
      "cell_type": "markdown",
      "metadata": {
        "id": "b-bpzuiRSmNs"
      },
      "source": [
        "## Functions"
      ]
    },
    {
      "cell_type": "code",
      "execution_count": 3,
      "metadata": {
        "id": "GeRkj83foXJs"
      },
      "outputs": [],
      "source": [
        "# Function to analyze images and find their sizes\n",
        "def analyze_images(folder_path):\n",
        "    sizes = []\n",
        "    for filename in os.listdir(folder_path):\n",
        "        if filename.endswith(('.png', '.jpg', '.jpeg', '.gif', '.bmp')):  # Check image types\n",
        "            img_path = os.path.join(folder_path, filename)\n",
        "            with Image.open(img_path) as img:\n",
        "                sizes.append(img.size)  # Save dimensions (width, height)\n",
        "\n",
        "    return sizes\n",
        "\n",
        "# Function to calculate the average size\n",
        "def calculate_average_size(sizes):\n",
        "    if sizes:\n",
        "        total_width = sum(width for width, height in sizes)\n",
        "        total_height = sum(height for width, height in sizes)\n",
        "        count = len(sizes)\n",
        "        average_size = (total_width // count, total_height // count)  # Calculate average (width, height)\n",
        "        return average_size\n",
        "    return None\n",
        "\n",
        "# Function to plot the sizes of the images\n",
        "def plot_image_sizes(sizes):\n",
        "    widths, heights = zip(*sizes)  # Unzip the sizes into separate lists\n",
        "    plt.figure(figsize=(12, 6))\n",
        "    plt.bar(range(len(widths)), widths, color='b', alpha=0.6, label='Width')\n",
        "    plt.bar(range(len(heights)), heights, color='r', alpha=0.6, label='Height')\n",
        "    plt.xlabel('Image Index')\n",
        "    plt.ylabel('Size (pixels)')\n",
        "    plt.title('Sizes of Images')\n",
        "    plt.xticks(range(len(widths)))  # Set x-ticks to image indices\n",
        "    plt.legend()\n",
        "    plt.show()\n",
        "\n",
        "# Function to normalize an image\n",
        "def normalize_image(image):\n",
        "    return np.array(image) / 255.0  # Normalize image to [0, 1]\n",
        "\n",
        "# Function to resize images to the average size and normalize them\n",
        "def resize_and_normalize_images(folder_path, target_size, output_folder):\n",
        "    os.makedirs(output_folder, exist_ok=True)  # Create output folder if it doesn't exist\n",
        "    for filename in os.listdir(folder_path):\n",
        "        if filename.endswith(('.png', '.jpg', '.jpeg', '.gif', '.bmp')):  # Check image types\n",
        "            img_path = os.path.join(folder_path, filename)\n",
        "            with Image.open(img_path) as img:\n",
        "                img = img.resize(target_size, Image.Resampling.LANCZOS)  # Resize the image\n",
        "                normalized_img = normalize_image(img)  # Normalize the image\n",
        "                # Save the normalized image as a numpy array in the output folder\n",
        "                np.save(os.path.join(output_folder, filename.split('.')[0]), normalized_img)  # Save normalized image\n"
      ]
    },
    {
      "cell_type": "markdown",
      "metadata": {
        "id": "k14WEraPS8Os"
      },
      "source": [
        "## Analysis,resizing and normalizing images"
      ]
    },
    {
      "cell_type": "code",
      "execution_count": 4,
      "metadata": {
        "colab": {
          "base_uri": "https://localhost:8080/",
          "height": 582
        },
        "id": "Pj_spcw8LKAy",
        "outputId": "a67fcad6-9b15-4af9-8baf-edd54ce1b680"
      },
      "outputs": [
        {
          "name": "stdout",
          "output_type": "stream",
          "text": [
            "Average size: (965, 1055)\n"
          ]
        },
        {
          "data": {
            "image/png": "[encoded data removed]",
            "text/plain": [
              "<Figure size 1200x600 with 1 Axes>"
            ]
          },
          "metadata": {},
          "output_type": "display_data"
        }
      ],
      "source": [
        "folder_path = 'Example_Data'\n",
        "output_folder = 'Final_Data'\n",
        "\n",
        "# Analyze images\n",
        "sizes = analyze_images(folder_path)\n",
        "average_size = calculate_average_size(sizes)\n",
        "print(f'Average size: {average_size}')\n",
        "\n",
        "# Plot image sizes\n",
        "plot_image_sizes(sizes)\n",
        "\n",
        "# Resize and normalize images\n",
        "resize_and_normalize_images(folder_path, average_size, output_folder)\n"
      ]
    }
  ],
  "metadata": {
    "accelerator": "GPU",
    "colab": {
      "gpuType": "T4",
      "provenance": []
    },
    "kernelspec": {
      "display_name": "Python 3",
      "name": "python3"
    },
    "language_info": {
      "name": "python"
    }
  },
  "nbformat": 4,
  "nbformat_minor": 0
}
